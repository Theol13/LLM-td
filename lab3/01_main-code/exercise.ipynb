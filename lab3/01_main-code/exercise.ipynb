{
 "cells": [
  {
   "cell_type": "markdown",
   "id": "d2a7aa70",
   "metadata": {},
   "source": [
    "# Chapter 3 - Exercises\n",
    "\n",
    "> Author : Badr TAJINI - Large Language model (LLMs) - ESIEE 2024-2025\n",
    "\n",
    "---"
   ]
  },
  {
   "cell_type": "markdown",
   "id": "33dfa199-9aee-41d4-a64b-7e3811b9a616",
   "metadata": {},
   "source": [
    "# Exercise 3.1"
   ]
  },
  {
   "cell_type": "markdown",
   "id": "5fee2cf5-61c3-4167-81b5-44ea155bbaf2",
   "metadata": {},
   "source": [
    "Observe that the `nn.Linear` layer in `SelfAttention_v2` employs a distinct weight initialization strategy compared to the `nn.Parameter(torch.rand(d_in, d_out))` method utilized in `SelfAttention_v1`, resulting in divergent computational outputs. To validate the fundamental structural similarities between the two implementations, we propose a weight transfer methodology that will demonstrate the potential for convergence between `SelfAttention_v1` and `SelfAttention_v2`.\n",
    "\n",
    "**Key Exercise Question: Can you transfer the weights from `SelfAttention_v2` to `SelfAttention_v1` such that both implementations produce identical output tensors?**\n",
    "\n",
    "*Specific Challenges:*\n",
    "- Recognize that `nn.Linear` stores its weight matrix in a transposed configuration\n",
    "- Carefully map and transfer weights between the two self-attention implementations\n",
    "- Verify that the transferred weights result in mathematically equivalent computational results\n",
    "\n",
    "The primary objective is to systematically transfer weight matrices from an instantiated `SelfAttention_v2` object to a `SelfAttention_v1` instance, requiring a nuanced understanding of the underlying weight matrix representation.\n",
    "\n",
    "Subsequent research focuses on advancing the self-attention mechanism through two critical architectural enhancements:\n",
    "\n",
    "1. **Causal Masking**: This modification introduces a constraint preventing the attention mechanism from accessing future sequence elements. Such a constraint is particularly pivotal in generative language modeling contexts, where each token's prediction must be conditioned exclusively on preceding contextual information.\n",
    "\n",
    "2. **Multi-Head Attention**: This approach involves partitioning the attention mechanism into parallel computational \"heads.\" Each head operates as a distinct learnable feature extractor, capable of capturing diverse representational characteristics across different subspaces and positional contexts. By enabling simultaneous multi-perspective representation learning, this technique substantially augments the model's capacity to process complex, high-dimensional representations.\n",
    "\n",
    "These architectural refinements collectively contribute to more sophisticated and contextually aware neural network architectures, particularly in sequence modeling domains."
   ]
  },
  {
   "cell_type": "code",
   "execution_count": 1,
   "id": "6cf62b65",
   "metadata": {},
   "outputs": [
    {
     "name": "stdout",
     "output_type": "stream",
     "text": [
      "Avant transfert : tensor([[0.5932, 1.2044, 0.6683, 0.6424],\n",
      "        [0.5930, 1.2040, 0.6685, 0.6418]], grad_fn=<MmBackward0>)\n",
      "Après transfert : tensor([[-0.0086, -0.2510,  0.1119, -0.2838],\n",
      "        [-0.0088, -0.2511,  0.1122, -0.2836]], grad_fn=<MmBackward0>)\n",
      "Sorties de v2 : tensor([[-0.0086, -0.2510,  0.1119, -0.2838],\n",
      "        [-0.0088, -0.2511,  0.1122, -0.2836]], grad_fn=<MmBackward0>)\n"
     ]
    }
   ],
   "source": [
    "import torch\n",
    "import torch.nn as nn\n",
    "\n",
    "class SelfAttention_v1(nn.Module):\n",
    "    def __init__(self, d_in, d_out):\n",
    "        super().__init__()\n",
    "        self.W_query = nn.Parameter(torch.rand(d_in, d_out))\n",
    "        self.W_key = nn.Parameter(torch.rand(d_in, d_out))\n",
    "        self.W_value = nn.Parameter(torch.rand(d_in, d_out))\n",
    "\n",
    "    def forward(self, x):\n",
    "        keys = x @ self.W_key\n",
    "        queries = x @ self.W_query\n",
    "        values = x @ self.W_value\n",
    "        attn_scores = queries @ keys.T\n",
    "        attn_weights = torch.softmax(attn_scores / keys.shape[-1]**0.5, dim=-1)\n",
    "        context_vec = attn_weights @ values\n",
    "        return context_vec\n",
    "\n",
    "\n",
    "class SelfAttention_v2(nn.Module):\n",
    "    def __init__(self, d_in, d_out, qkv_bias=False):\n",
    "        super().__init__()\n",
    "        self.W_query = nn.Linear(d_in, d_out, bias=qkv_bias)\n",
    "        self.W_key = nn.Linear(d_in, d_out, bias=qkv_bias)\n",
    "        self.W_value = nn.Linear(d_in, d_out, bias=qkv_bias)\n",
    "\n",
    "    def forward(self, x):\n",
    "        keys = self.W_key(x)\n",
    "        queries = self.W_query(x)\n",
    "        values = self.W_value(x)\n",
    "        attn_scores = queries @ keys.T\n",
    "        attn_weights = torch.softmax(attn_scores / keys.shape[-1]**0.5, dim=-1)\n",
    "        context_vec = attn_weights @ values\n",
    "        return context_vec\n",
    "\n",
    "\n",
    "# Fonction pour transférer les poids\n",
    "def transfer_weights(sa_v2, sa_v1):\n",
    "    sa_v1.W_query.data = sa_v2.W_query.weight.data.T\n",
    "    sa_v1.W_key.data = sa_v2.W_key.weight.data.T\n",
    "    sa_v1.W_value.data = sa_v2.W_value.weight.data.T\n",
    "\n",
    "\n",
    "# Test avec exemple\n",
    "d_in, d_out = 4, 4\n",
    "inputs = torch.rand(2, d_in)\n",
    "\n",
    "sa_v1 = SelfAttention_v1(d_in, d_out)\n",
    "sa_v2 = SelfAttention_v2(d_in, d_out)\n",
    "\n",
    "# Avant transfert\n",
    "output_v1_before = sa_v1(inputs)\n",
    "output_v2_before = sa_v2(inputs)\n",
    "\n",
    "# Transfert des poids\n",
    "transfer_weights(sa_v2, sa_v1)\n",
    "\n",
    "# Après transfert\n",
    "output_v1_after = sa_v1(inputs)\n",
    "output_v2_after = sa_v2(inputs)\n",
    "\n",
    "# Résultat\n",
    "print(\"Avant transfert :\", output_v1_before)\n",
    "print(\"Après transfert :\", output_v1_after)\n",
    "print(\"Sorties de v2 :\", output_v2_after)\n"
   ]
  },
  {
   "cell_type": "markdown",
   "id": "33543edb-46b5-4b01-8704-f7f101230544",
   "metadata": {},
   "source": [
    "# Exercise 3.2"
   ]
  },
  {
   "cell_type": "markdown",
   "id": "18e748ef-3106-4e11-a781-b230b74a0cef",
   "metadata": {},
   "source": [
    "**Key Exercise Question: How can you modify the input arguments to the `MultiHeadAttentionWrapper(num_heads=2)` to transform the output context vectors from four-dimensional to two-dimensional while maintaining the `num_heads=2` configuration?**\n",
    "\n",
    "*Specific Challenges:*\n",
    "- Identify the input parameter that controls the dimensionality of output context vectors\n",
    "- Understand the relationship between input arguments and tensor shape\n",
    "- Achieve dimensionality reduction without modifying the core `MultiHeadAttentionWrapper` class implementation\n",
    "\n",
    "*Architectural Context:*\n",
    "Up to this point, we have developed a `MultiHeadAttentionWrapper` that integrates multiple single-head attention modules through sequential processing, implemented via the comprehension `[head(x) for head in self.heads]` in the forward method. This current implementation represents a foundational approach to multi-head attention mechanisms.\n",
    "\n",
    "*Potential Optimization Strategies:*\n",
    "1. **Sequential Processing Limitation**: The current implementation processes attention heads sequentially, which may introduce computational inefficiencies.\n",
    "\n",
    "2. **Parallel Processing Approach**: An advanced optimization involves simultaneous computation of attention head outputs through efficient matrix multiplication techniques. This parallel processing strategy can potentially enhance computational performance and reduce computational overhead.\n",
    "\n",
    "*Theoretical Implications:*\n",
    "The ability to dynamically adjust output dimensionality while maintaining the multi-head attention structure highlights the flexibility of modern neural network architectural designs. Such manipulations are crucial in adapting attention mechanisms to diverse computational requirements across different machine learning domains.\n",
    "\n",
    "*Practical Recommendation:*\n",
    "Carefully examine the input arguments of the `MultiHeadAttentionWrapper` and consider how specific parameters might influence the output tensor's dimensionality. The solution likely involves a subtle adjustment that does not require restructuring the core implementation."
   ]
  },
  {
   "cell_type": "code",
   "execution_count": 2,
   "id": "c86ac68a",
   "metadata": {},
   "outputs": [
    {
     "name": "stdout",
     "output_type": "stream",
     "text": [
      "Dimension de la sortie : torch.Size([2, 5, 2])\n"
     ]
    }
   ],
   "source": [
    "class MultiHeadAttentionWrapper(nn.Module):\n",
    "    def __init__(self, d_model, num_heads):\n",
    "        super().__init__()\n",
    "        assert d_model % num_heads == 0, \"d_model must be divisible by num_heads\"\n",
    "        self.num_heads = num_heads\n",
    "        self.head_dim = d_model // num_heads\n",
    "        self.W_query = nn.Linear(d_model, d_model)\n",
    "        self.W_key = nn.Linear(d_model, d_model)\n",
    "        self.W_value = nn.Linear(d_model, d_model)\n",
    "        self.fc_out = nn.Linear(d_model, d_model)\n",
    "\n",
    "    def forward(self, x):\n",
    "        batch_size, seq_length, d_model = x.shape\n",
    "\n",
    "        # Linear transformations and split into heads\n",
    "        queries = self.W_query(x).view(batch_size, seq_length, self.num_heads, self.head_dim).transpose(1, 2)\n",
    "        keys = self.W_key(x).view(batch_size, seq_length, self.num_heads, self.head_dim).transpose(1, 2)\n",
    "        values = self.W_value(x).view(batch_size, seq_length, self.num_heads, self.head_dim).transpose(1, 2)\n",
    "\n",
    "        # Attention scores\n",
    "        attn_scores = torch.matmul(queries, keys.transpose(-1, -2)) / (self.head_dim ** 0.5)\n",
    "        attn_weights = torch.softmax(attn_scores, dim=-1)\n",
    "\n",
    "        # Context vectors\n",
    "        context = torch.matmul(attn_weights, values).transpose(1, 2).contiguous()\n",
    "        context = context.view(batch_size, seq_length, -1)  # Combine heads\n",
    "\n",
    "        # Output layer\n",
    "        out = self.fc_out(context)\n",
    "        return out\n",
    "\n",
    "# Dimensions\n",
    "d_model = 4\n",
    "num_heads = 2 \n",
    "\n",
    "# Modification : Transformer les vecteurs contextuels en une dimension inférieure\n",
    "modified_d_model = 2\n",
    "\n",
    "# Classe modifiée\n",
    "class MultiHeadAttentionWrapperModified(nn.Module):\n",
    "    def __init__(self, d_model, modified_d_model, num_heads):\n",
    "        super().__init__()\n",
    "        self.multi_head_attention = MultiHeadAttentionWrapper(d_model, num_heads)\n",
    "        self.fc_reduce = nn.Linear(d_model, modified_d_model)\n",
    "\n",
    "    def forward(self, x):\n",
    "        out = self.multi_head_attention(x)\n",
    "        out = self.fc_reduce(out)\n",
    "        return out\n",
    "\n",
    "# Exemple d'entrée\n",
    "inputs = torch.rand(2, 5, d_model)\n",
    "\n",
    "# Utilisation\n",
    "attention = MultiHeadAttentionWrapperModified(d_model=d_model, modified_d_model=modified_d_model, num_heads=num_heads)\n",
    "output = attention(inputs)\n",
    "\n",
    "print(\"Dimension de la sortie :\", output.shape)"
   ]
  },
  {
   "cell_type": "markdown",
   "id": "92bdabcb-06cf-4576-b810-d883bbd313ba",
   "metadata": {},
   "source": [
    "# Exercise 3.3"
   ]
  },
  {
   "cell_type": "markdown",
   "id": "78fdab01",
   "metadata": {
    "vscode": {
     "languageId": "plaintext"
    }
   },
   "source": [
    "**Key Exercise Question: Can you configure a `MultiHeadAttention` module that precisely replicates the architectural specifications of the smallest GPT-2 model?**\n",
    "\n",
    "*Specific Model Specifications:*\n",
    "- Number of Attention Heads: 12\n",
    "- Input/Output Embedding Dimensions: 768\n",
    "- Context Length: 1,024 tokens\n",
    "\n",
    "*Architectural Parameters:*\n",
    "- `num_heads`: 12\n",
    "- `d_model`: 768\n",
    "- `context_length`: 1,024\n",
    "\n",
    "*Theoretical Considerations:*\n",
    "The proposed configuration mirrors the smallest variant of the GPT-2 model, which represents a fundamental architecture in transformer-based language models. By precisely replicating these specifications, we can explore the intricate design choices that contribute to the model's effectiveness in natural language processing tasks.\n",
    "\n",
    "*Key Implementation Details:*\n",
    "- Ensuring 12 parallel attention heads allows for multi-perspective feature representation\n",
    "- The 768-dimensional embedding space provides a rich, high-dimensional representation of linguistic context\n",
    "- The 1,024 token context length enables comprehensive sequence processing\n",
    "\n",
    "*Practical Recommendation:*\n",
    "Carefully construct the `MultiHeadAttention` initialization to match these exact specifications, paying close attention to the dimensionality and number of heads to accurately reproduce the smallest GPT-2 model's architectural characteristics."
   ]
  },
  {
   "cell_type": "code",
   "execution_count": 3,
   "id": "b50b4468",
   "metadata": {},
   "outputs": [
    {
     "name": "stdout",
     "output_type": "stream",
     "text": [
      "Dimension de l'entrée : torch.Size([2, 1024, 768])\n",
      "Dimension de la sortie : torch.Size([2, 1024, 768])\n"
     ]
    }
   ],
   "source": [
    "class MultiHeadAttention(nn.Module):\n",
    "    def __init__(self, d_model, num_heads):\n",
    "        super().__init__()\n",
    "        assert d_model % num_heads == 0, \"d_model must be divisible by num_heads\"\n",
    "        self.num_heads = num_heads\n",
    "        self.head_dim = d_model // num_heads\n",
    "\n",
    "        # Linear layers for query, key, and value\n",
    "        self.W_query = nn.Linear(d_model, d_model)\n",
    "        self.W_key = nn.Linear(d_model, d_model)\n",
    "        self.W_value = nn.Linear(d_model, d_model)\n",
    "\n",
    "        # Output linear layer\n",
    "        self.fc_out = nn.Linear(d_model, d_model)\n",
    "\n",
    "    def forward(self, x):\n",
    "        batch_size, seq_length, d_model = x.shape\n",
    "\n",
    "        # Linear transformations and split into heads\n",
    "        queries = self.W_query(x).view(batch_size, seq_length, self.num_heads, self.head_dim).transpose(1, 2)\n",
    "        keys = self.W_key(x).view(batch_size, seq_length, self.num_heads, self.head_dim).transpose(1, 2)\n",
    "        values = self.W_value(x).view(batch_size, seq_length, self.num_heads, self.head_dim).transpose(1, 2)\n",
    "\n",
    "        # Scaled dot-product attention\n",
    "        attn_scores = torch.matmul(queries, keys.transpose(-1, -2)) / (self.head_dim ** 0.5)\n",
    "        attn_weights = torch.softmax(attn_scores, dim=-1)\n",
    "        context = torch.matmul(attn_weights, values)\n",
    "\n",
    "        # Concatenate heads and pass through final linear layer\n",
    "        context = context.transpose(1, 2).contiguous().view(batch_size, seq_length, d_model)\n",
    "        out = self.fc_out(context)\n",
    "        return out\n",
    "\n",
    "\n",
    "# Configuration GPT-2 (smallest variant)\n",
    "d_model = 768  # Dimension des embeddings\n",
    "num_heads = 12  # Nombre de têtes d'attention\n",
    "context_length = 1024  # Longueur de contexte (tokens)\n",
    "\n",
    "# Exemple d'entrée : batch de séquences avec dimension GPT-2\n",
    "batch_size = 2\n",
    "inputs = torch.rand(batch_size, context_length, d_model)  # Batch size = 2, seq length = 1024, embedding dim = 768\n",
    "\n",
    "# Initialisation et test\n",
    "multi_head_attention = MultiHeadAttention(d_model=d_model, num_heads=num_heads)\n",
    "output = multi_head_attention(inputs)\n",
    "\n",
    "# Vérification des dimensions de sortie\n",
    "print(\"Dimension de l'entrée :\", inputs.shape)\n",
    "print(\"Dimension de la sortie :\", output.shape)"
   ]
  }
 ],
 "metadata": {
  "kernelspec": {
   "display_name": "Python 3",
   "language": "python",
   "name": "python3"
  },
  "language_info": {
   "codemirror_mode": {
    "name": "ipython",
    "version": 3
   },
   "file_extension": ".py",
   "mimetype": "text/x-python",
   "name": "python",
   "nbconvert_exporter": "python",
   "pygments_lexer": "ipython3",
   "version": "3.11.5"
  }
 },
 "nbformat": 4,
 "nbformat_minor": 5
}
